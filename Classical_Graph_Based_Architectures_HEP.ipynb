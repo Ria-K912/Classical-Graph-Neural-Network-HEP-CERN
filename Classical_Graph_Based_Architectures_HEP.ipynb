{
 "cells": [
  {
   "cell_type": "code",
   "execution_count": 1,
   "id": "26ec3488",
   "metadata": {},
   "outputs": [
    {
     "name": "stdout",
     "output_type": "stream",
     "text": [
      "X\n",
      "[[[ 2.68769142e-01  3.56903171e-01  4.74138734e+00  2.20000000e+01]\n",
      "  [ 1.60076377e-01 -2.55609533e-01  4.55022910e+00  2.20000000e+01]\n",
      "  [ 1.14868731e+00 -6.24380156e-02  4.50385377e+00 -2.11000000e+02]\n",
      "  ...\n",
      "  [ 0.00000000e+00  0.00000000e+00  0.00000000e+00  0.00000000e+00]\n",
      "  [ 0.00000000e+00  0.00000000e+00  0.00000000e+00  0.00000000e+00]\n",
      "  [ 0.00000000e+00  0.00000000e+00  0.00000000e+00  0.00000000e+00]]\n",
      "\n",
      " [[ 1.21266321e+00 -1.12853089e-01  3.04708757e+00 -2.11000000e+02]\n",
      "  [ 2.40893976e-01 -1.67174886e-02  2.82705667e+00  2.20000000e+01]\n",
      "  [ 1.02778452e-01 -8.58720522e-02  3.04180579e+00  2.20000000e+01]\n",
      "  ...\n",
      "  [ 0.00000000e+00  0.00000000e+00  0.00000000e+00  0.00000000e+00]\n",
      "  [ 0.00000000e+00  0.00000000e+00  0.00000000e+00  0.00000000e+00]\n",
      "  [ 0.00000000e+00  0.00000000e+00  0.00000000e+00  0.00000000e+00]]\n",
      "\n",
      " [[ 2.16829416e-01 -9.97057017e-01  5.32568913e-01  2.20000000e+01]\n",
      "  [ 2.31359397e-01 -1.59192211e+00  2.02906587e-01  2.20000000e+01]\n",
      "  [ 3.41572501e-01 -1.34588077e+00  1.79910012e-01  2.20000000e+01]\n",
      "  ...\n",
      "  [ 0.00000000e+00  0.00000000e+00  0.00000000e+00  0.00000000e+00]\n",
      "  [ 0.00000000e+00  0.00000000e+00  0.00000000e+00  0.00000000e+00]\n",
      "  [ 0.00000000e+00  0.00000000e+00  0.00000000e+00  0.00000000e+00]]\n",
      "\n",
      " ...\n",
      "\n",
      " [[ 5.62305979e-01  1.30600679e+00  4.45584187e+00  3.21000000e+02]\n",
      "  [ 5.33720850e-01  1.27847224e+00  4.63907136e+00 -2.11200000e+03]\n",
      "  [ 8.22173394e-01  7.12645581e-01  4.70736440e+00 -2.11000000e+02]\n",
      "  ...\n",
      "  [ 0.00000000e+00  0.00000000e+00  0.00000000e+00  0.00000000e+00]\n",
      "  [ 0.00000000e+00  0.00000000e+00  0.00000000e+00  0.00000000e+00]\n",
      "  [ 0.00000000e+00  0.00000000e+00  0.00000000e+00  0.00000000e+00]]\n",
      "\n",
      " [[ 2.31124336e-01 -6.34761724e-02  3.95621834e+00  2.20000000e+01]\n",
      "  [ 1.28517426e+00 -7.18495606e-02  3.79668946e+00 -2.11000000e+02]\n",
      "  [ 2.69184416e+00  2.79825145e-02  4.10518218e+00  2.11000000e+02]\n",
      "  ...\n",
      "  [ 0.00000000e+00  0.00000000e+00  0.00000000e+00  0.00000000e+00]\n",
      "  [ 0.00000000e+00  0.00000000e+00  0.00000000e+00  0.00000000e+00]\n",
      "  [ 0.00000000e+00  0.00000000e+00  0.00000000e+00  0.00000000e+00]]\n",
      "\n",
      " [[ 3.04140138e-01  7.21628966e-01  1.25271426e+00  2.20000000e+01]\n",
      "  [ 9.00649058e-01  1.19311927e+00  1.03353543e+00  2.11000000e+02]\n",
      "  [ 1.54846983e-01  1.37730434e+00  1.24606922e+00  2.11000000e+02]\n",
      "  ...\n",
      "  [ 0.00000000e+00  0.00000000e+00  0.00000000e+00  0.00000000e+00]\n",
      "  [ 0.00000000e+00  0.00000000e+00  0.00000000e+00  0.00000000e+00]\n",
      "  [ 0.00000000e+00  0.00000000e+00  0.00000000e+00  0.00000000e+00]]]\n",
      "y\n",
      "[1. 1. 1. ... 1. 0. 0.]\n"
     ]
    }
   ],
   "source": [
    "import numpy as np\n",
    "from numpy import load\n",
    "\n",
    "data = load(\"C:\\\\Users\\\\Hp\\\\Downloads\\\\QG_jets.npz\", allow_pickle = True)\n",
    "lst = data.files\n",
    "\n",
    "for item in lst:\n",
    "    print(item)\n",
    "    print(data[item])\n"
   ]
  },
  {
   "cell_type": "code",
   "execution_count": 4,
   "id": "c00f3c52",
   "metadata": {},
   "outputs": [
    {
     "name": "stdout",
     "output_type": "stream",
     "text": [
      "X\n",
      "y\n"
     ]
    }
   ],
   "source": [
    "for k in data.files:\n",
    "    print(k)"
   ]
  },
  {
   "cell_type": "code",
   "execution_count": 5,
   "id": "35d30d28",
   "metadata": {},
   "outputs": [
    {
     "name": "stdout",
     "output_type": "stream",
     "text": [
      "Collecting torch-geometric\n",
      "  Downloading torch_geometric-2.3.1.tar.gz (661 kB)\n",
      "     ---------------------------------------- 0.0/661.6 kB ? eta -:--:--\n",
      "      --------------------------------------- 10.2/661.6 kB ? eta -:--:--\n",
      "     -- ---------------------------------- 41.0/661.6 kB 393.8 kB/s eta 0:00:02\n",
      "     --- --------------------------------- 61.4/661.6 kB 465.5 kB/s eta 0:00:02\n",
      "     ---- -------------------------------- 81.9/661.6 kB 508.4 kB/s eta 0:00:02\n",
      "     ------ ----------------------------- 112.6/661.6 kB 504.4 kB/s eta 0:00:02\n",
      "     ------ ----------------------------- 122.9/661.6 kB 450.6 kB/s eta 0:00:02\n",
      "     ------ ----------------------------- 122.9/661.6 kB 450.6 kB/s eta 0:00:02\n",
      "     -------- --------------------------- 163.8/661.6 kB 426.7 kB/s eta 0:00:02\n",
      "     --------- -------------------------- 174.1/661.6 kB 419.0 kB/s eta 0:00:02\n",
      "     ---------- ------------------------- 194.6/661.6 kB 420.8 kB/s eta 0:00:02\n",
      "     ----------- ------------------------ 204.8/661.6 kB 401.2 kB/s eta 0:00:02\n",
      "     ------------ ----------------------- 225.3/661.6 kB 393.1 kB/s eta 0:00:02\n",
      "     ------------- ---------------------- 245.8/661.6 kB 396.5 kB/s eta 0:00:02\n",
      "     ------------- ---------------------- 245.8/661.6 kB 396.5 kB/s eta 0:00:02\n",
      "     -------------- --------------------- 266.2/661.6 kB 381.0 kB/s eta 0:00:02\n",
      "     --------------- -------------------- 286.7/661.6 kB 393.3 kB/s eta 0:00:01\n",
      "     ---------------- ------------------- 307.2/661.6 kB 372.6 kB/s eta 0:00:01\n",
      "     -------------------- --------------- 368.6/661.6 kB 424.6 kB/s eta 0:00:01\n",
      "     -------------------- --------------- 378.9/661.6 kB 428.7 kB/s eta 0:00:01\n",
      "     --------------------- -------------- 399.4/661.6 kB 429.0 kB/s eta 0:00:01\n",
      "     ----------------------- ------------ 430.1/661.6 kB 426.2 kB/s eta 0:00:01\n",
      "     -------------------------- --------- 491.5/661.6 kB 466.4 kB/s eta 0:00:01\n",
      "     ------------------------------ ----- 553.0/661.6 kB 503.4 kB/s eta 0:00:01\n",
      "     -------------------------------- --- 604.2/661.6 kB 527.9 kB/s eta 0:00:01\n",
      "     -------------------------------- --- 604.2/661.6 kB 527.9 kB/s eta 0:00:01\n",
      "     ------------------------------------ 661.6/661.6 kB 534.4 kB/s eta 0:00:00\n",
      "  Installing build dependencies: started\n",
      "  Installing build dependencies: finished with status 'done'\n",
      "  Getting requirements to build wheel: started\n",
      "  Getting requirements to build wheel: finished with status 'done'\n",
      "  Preparing metadata (pyproject.toml): started\n",
      "  Preparing metadata (pyproject.toml): finished with status 'done'\n",
      "Requirement already satisfied: tqdm in c:\\users\\hp\\anaconda3\\lib\\site-packages (from torch-geometric) (4.64.1)\n",
      "Requirement already satisfied: numpy in c:\\users\\hp\\anaconda3\\lib\\site-packages (from torch-geometric) (1.23.5)\n",
      "Requirement already satisfied: scipy in c:\\users\\hp\\anaconda3\\lib\\site-packages (from torch-geometric) (1.10.0)\n",
      "Requirement already satisfied: jinja2 in c:\\users\\hp\\anaconda3\\lib\\site-packages (from torch-geometric) (3.1.2)\n",
      "Requirement already satisfied: requests in c:\\users\\hp\\anaconda3\\lib\\site-packages (from torch-geometric) (2.31.0)\n",
      "Requirement already satisfied: pyparsing in c:\\users\\hp\\anaconda3\\lib\\site-packages (from torch-geometric) (3.0.9)\n",
      "Requirement already satisfied: scikit-learn in c:\\users\\hp\\anaconda3\\lib\\site-packages (from torch-geometric) (1.2.1)\n",
      "Requirement already satisfied: psutil>=5.8.0 in c:\\users\\hp\\anaconda3\\lib\\site-packages (from torch-geometric) (5.9.0)\n",
      "Requirement already satisfied: MarkupSafe>=2.0 in c:\\users\\hp\\anaconda3\\lib\\site-packages (from jinja2->torch-geometric) (2.1.1)\n",
      "Requirement already satisfied: charset-normalizer<4,>=2 in c:\\users\\hp\\anaconda3\\lib\\site-packages (from requests->torch-geometric) (2.0.4)\n",
      "Requirement already satisfied: idna<4,>=2.5 in c:\\users\\hp\\anaconda3\\lib\\site-packages (from requests->torch-geometric) (3.4)\n",
      "Requirement already satisfied: urllib3<3,>=1.21.1 in c:\\users\\hp\\anaconda3\\lib\\site-packages (from requests->torch-geometric) (1.26.14)\n",
      "Requirement already satisfied: certifi>=2017.4.17 in c:\\users\\hp\\anaconda3\\lib\\site-packages (from requests->torch-geometric) (2023.7.22)\n",
      "Requirement already satisfied: joblib>=1.1.1 in c:\\users\\hp\\anaconda3\\lib\\site-packages (from scikit-learn->torch-geometric) (1.1.1)\n",
      "Requirement already satisfied: threadpoolctl>=2.0.0 in c:\\users\\hp\\anaconda3\\lib\\site-packages (from scikit-learn->torch-geometric) (2.2.0)\n",
      "Requirement already satisfied: colorama in c:\\users\\hp\\anaconda3\\lib\\site-packages (from tqdm->torch-geometric) (0.4.6)\n",
      "Building wheels for collected packages: torch-geometric\n",
      "  Building wheel for torch-geometric (pyproject.toml): started\n",
      "  Building wheel for torch-geometric (pyproject.toml): finished with status 'done'\n",
      "  Created wheel for torch-geometric: filename=torch_geometric-2.3.1-py3-none-any.whl size=910499 sha256=0a6f010b32ad2cf0b14c08c0631a4f86157d4b71cac1aca9972db655a70174f8\n",
      "  Stored in directory: c:\\users\\hp\\appdata\\local\\pip\\cache\\wheels\\ac\\dc\\30\\e2874821ff308ee67dcd7a66dbde912411e19e35a1addda028\n",
      "Successfully built torch-geometric\n",
      "Installing collected packages: torch-geometric\n",
      "Successfully installed torch-geometric-2.3.1\n",
      "Note: you may need to restart the kernel to use updated packages.\n"
     ]
    },
    {
     "name": "stderr",
     "output_type": "stream",
     "text": [
      "WARNING: Ignoring invalid distribution - (c:\\users\\hp\\anaconda3\\lib\\site-packages)\n",
      "WARNING: Ignoring invalid distribution -ensorflow-intel (c:\\users\\hp\\anaconda3\\lib\\site-packages)\n",
      "WARNING: Ignoring invalid distribution -iskit-terra (c:\\users\\hp\\anaconda3\\lib\\site-packages)\n",
      "WARNING: Ignoring invalid distribution - (c:\\users\\hp\\anaconda3\\lib\\site-packages)\n",
      "WARNING: Ignoring invalid distribution -ensorflow-intel (c:\\users\\hp\\anaconda3\\lib\\site-packages)\n",
      "WARNING: Ignoring invalid distribution -iskit-terra (c:\\users\\hp\\anaconda3\\lib\\site-packages)\n"
     ]
    }
   ],
   "source": [
    "pip install torch-geometric"
   ]
  },
  {
   "cell_type": "code",
   "execution_count": 44,
   "id": "fed34b31",
   "metadata": {},
   "outputs": [],
   "source": [
    "import torch\n",
    "import torch.nn as nn\n",
    "import torch.optim as optim\n",
    "import torch.nn.functional as F\n",
    "from torch_geometric.data import Data, DataLoader\n",
    "from torch_geometric.nn import GCNConv\n",
    "import numpy as np\n",
    "from sklearn.model_selection import train_test_split\n",
    "import matplotlib.pyplot as plt\n",
    "import networkx as nx\n",
    "from scipy.sparse import lil_matrix"
   ]
  },
  {
   "cell_type": "code",
   "execution_count": 45,
   "id": "5e081760",
   "metadata": {},
   "outputs": [],
   "source": [
    "# Load the dataset\n",
    "data = np.load(\"C:\\\\Users\\\\Hp\\\\Downloads\\\\QG_jets.npz\", allow_pickle=True)"
   ]
  },
  {
   "cell_type": "code",
   "execution_count": 46,
   "id": "ad72b470",
   "metadata": {},
   "outputs": [],
   "source": [
    "# Extract features (X) and labels (y)\n",
    "X = data[\"X\"]\n",
    "y = data[\"y\"]"
   ]
  },
  {
   "cell_type": "code",
   "execution_count": 51,
   "id": "edfc646f",
   "metadata": {},
   "outputs": [],
   "source": [
    "# Define the threshold for connectivity\n",
    "threshold = 0.5\n",
    "\n",
    "# Function to calculate distance between particles\n",
    "def calculate_distance(particle1, particle2):\n",
    "    delta_pt = particle1[0] - particle2[0]  # Calculate the difference in pt\n",
    "    delta_rapidity = particle1[1] - particle2[1]  # Calculate the difference in rapidity\n",
    "    delta_azimuth = particle1[2] - particle2[2]  # Calculate the difference in azimuthal angle\n",
    "    return np.sqrt(delta_pt**2 + delta_rapidity**2 + delta_azimuth**2)"
   ]
  },
  {
   "cell_type": "code",
   "execution_count": 52,
   "id": "8b8982d6",
   "metadata": {},
   "outputs": [],
   "source": [
    "# Function to create adjacency matrices and edge indices\n",
    "def create_adjacency_and_edges(X):\n",
    "    num_samples, num_particles, _ = X.shape\n",
    "    threshold = 0.1  # Define your distance threshold here\n",
    "\n",
    "    adjacency_matrices = []\n",
    "    edge_indices = []\n",
    "\n",
    "    for sample_idx in range(num_samples):\n",
    "        G = nx.Graph()\n",
    "        for i in range(num_particles):\n",
    "            for j in range(i + 1, num_particles):\n",
    "                distance = calculate_distance(X[sample_idx, i], X[sample_idx, j])\n",
    "                if distance < threshold:\n",
    "                    G.add_edge(i, j)\n",
    "\n",
    "        adjacency_matrix = nx.adjacency_matrix(G)\n",
    "        adjacency_matrices.append(adjacency_matrix)\n",
    "        edge_indices.append(np.array(G.edges()))\n",
    "\n",
    "    return adjacency_matrices, edge_indices"
   ]
  },
  {
   "cell_type": "code",
   "execution_count": 53,
   "id": "54964a34",
   "metadata": {},
   "outputs": [],
   "source": [
    "# Split the dataset into train, validation, and test sets\n",
    "X_train, X_temp, y_train, y_temp = train_test_split(X, y, test_size=0.4, random_state=42)\n",
    "X_val, X_test, y_val, y_test = train_test_split(X_temp, y_temp, test_size=0.5, random_state=42)"
   ]
  },
  {
   "cell_type": "code",
   "execution_count": null,
   "id": "f96b0fc3",
   "metadata": {},
   "outputs": [
    {
     "name": "stderr",
     "output_type": "stream",
     "text": [
      "C:\\Users\\Hp\\AppData\\Local\\Temp\\ipykernel_14836\\1265755108.py:17: FutureWarning: adjacency_matrix will return a scipy.sparse array instead of a matrix in Networkx 3.0.\n",
      "  adjacency_matrix = nx.adjacency_matrix(G)\n"
     ]
    }
   ],
   "source": [
    "# Create adjacency matrices and edge indices for train, validation, and test sets\n",
    "adjacency_matrices_train, edge_indices_train = create_adjacency_and_edges(X_train)\n",
    "adjacency_matrices_val, edge_indices_val = create_adjacency_and_edges(X_val)\n",
    "adjacency_matrices_test, edge_indices_test = create_adjacency_and_edges(X_test)"
   ]
  },
  {
   "cell_type": "code",
   "execution_count": null,
   "id": "8f6415bb",
   "metadata": {},
   "outputs": [],
   "source": [
    "# Convert NumPy arrays to PyTorch tensors\n",
    "X_train = torch.tensor(X_train, dtype=torch.float32)\n",
    "y_train = torch.tensor(y_train, dtype=torch.long)\n",
    "X_val = torch.tensor(X_val, dtype=torch.float32)\n",
    "y_val = torch.tensor(y_val, dtype=torch.long)\n",
    "X_test = torch.tensor(X_test, dtype=torch.float32)\n",
    "y_test = torch.tensor(y_test, dtype=torch.long)"
   ]
  },
  {
   "cell_type": "code",
   "execution_count": 36,
   "id": "308eb54d",
   "metadata": {},
   "outputs": [],
   "source": [
    "# Function to calculate adjacency matrices and edge indices\n",
    "def calculate_adjacency_matrices(dataset, adjacency_matrices, edge_indices):\n",
    "    for jet in dataset:\n",
    "        num_particles = jet.shape[0]\n",
    "\n",
    "        # Initialize an empty adjacency matrix for the current jet\n",
    "        adj_matrix = np.zeros((num_particles, num_particles))\n",
    "\n",
    "        # Calculate pairwise distances and set edges based on the threshold\n",
    "        for i in range(num_particles):\n",
    "            for j in range(i + 1, num_particles):\n",
    "                distance = calculate_distance(jet[i], jet[j])  # Calculate distance between particles\n",
    "                if np.any(distance < threshold):\n",
    "                    adj_matrix[i, j] = 1\n",
    "                    adj_matrix[j, i] = 1\n",
    "\n",
    "        # Convert the adjacency matrix to edge indices\n",
    "        edge_index = np.argwhere(adj_matrix == 1).T\n",
    "\n",
    "        # Append the adjacency matrix and edge indices to the lists\n",
    "        adjacency_matrices.append(adj_matrix)\n",
    "        edge_indices.append(torch.tensor(edge_index, dtype=torch.long))"
   ]
  },
  {
   "cell_type": "code",
   "execution_count": null,
   "id": "59d5d381",
   "metadata": {},
   "outputs": [],
   "source": [
    "# Calculate adjacency matrices and edge indices for train, validation, and test sets\n",
    "calculate_adjacency_matrices(X_train, adjacency_matrices_train, edge_indices_train)\n",
    "calculate_adjacency_matrices(X_val, adjacency_matrices_val, edge_indices_val)\n",
    "calculate_adjacency_matrices(X_test, adjacency_matrices_test, edge_indices_test)"
   ]
  },
  {
   "cell_type": "code",
   "execution_count": 19,
   "id": "5aad77fe",
   "metadata": {},
   "outputs": [],
   "source": [
    "# Define the GNN model\n",
    "class GNNModel(nn.Module):\n",
    "    def __init__(self, input_dim, hidden_dim, output_dim):\n",
    "        super(GNNModel, self).__init__()\n",
    "        self.conv1 = GCNConv(input_dim, hidden_dim)\n",
    "        self.conv2 = GCNConv(hidden_dim, output_dim)\n",
    "        self.fc = nn.Linear(output_dim, 2)  # Binary classification (quark vs. gluon)\n",
    "\n",
    "    def forward(self, x, edge_index):\n",
    "        x = self.conv1(x, edge_index)\n",
    "        x = F.relu(x)\n",
    "        x = self.conv2(x, edge_index)\n",
    "        x = F.relu(x)\n",
    "        x = global_mean_pool(x, batch=torch.zeros(x.shape[0], dtype=torch.long))\n",
    "        x = self.fc(x)\n",
    "        return F.log_softmax(x, dim=1)\n"
   ]
  },
  {
   "cell_type": "code",
   "execution_count": 20,
   "id": "cc2e68c4",
   "metadata": {},
   "outputs": [],
   "source": [
    "# Instantiate the GNN model\n",
    "input_dim = X_train.size(1)\n",
    "hidden_dim = 64\n",
    "output_dim = 32\n",
    "model = GNNModel(input_dim, hidden_dim, output_dim)"
   ]
  },
  {
   "cell_type": "code",
   "execution_count": 21,
   "id": "5e44efd4",
   "metadata": {},
   "outputs": [],
   "source": [
    "# Define the optimizer and loss function\n",
    "optimizer = optim.Adam(model.parameters(), lr=0.001)\n",
    "criterion = nn.CrossEntropyLoss()"
   ]
  },
  {
   "cell_type": "code",
   "execution_count": 22,
   "id": "3dceadd5",
   "metadata": {},
   "outputs": [],
   "source": [
    "# Training loop\n",
    "def train(model, optimizer, criterion, loader):\n",
    "    model.train()\n",
    "    total_loss = 0\n",
    "    for data in loader:\n",
    "        optimizer.zero_grad()\n",
    "        output = model(data.x, data.edge_index)\n",
    "        loss = criterion(output, data.y)\n",
    "        loss.backward()\n",
    "        optimizer.step()\n",
    "        total_loss += loss.item()\n",
    "    return total_loss / len(loader)\n"
   ]
  },
  {
   "cell_type": "code",
   "execution_count": 23,
   "id": "0ce19758",
   "metadata": {},
   "outputs": [],
   "source": [
    "# Validation function\n",
    "def evaluate(model, criterion, loader):\n",
    "    model.eval()\n",
    "    total_loss = 0\n",
    "    correct = 0\n",
    "    with torch.no_grad():\n",
    "        for data in loader:\n",
    "            output = model(data.x, data.edge_index)\n",
    "            total_loss += criterion(output, data.y).item()\n",
    "            pred = output.argmax(dim=1)\n",
    "            correct += pred.eq(data.y).sum().item()\n",
    "    loss = total_loss / len(loader)\n",
    "    accuracy = correct / len(loader.dataset)\n",
    "    return loss, accuracy"
   ]
  },
  {
   "cell_type": "code",
   "execution_count": 24,
   "id": "78a44b28",
   "metadata": {},
   "outputs": [
    {
     "ename": "NameError",
     "evalue": "name 'edge_indices_train' is not defined",
     "output_type": "error",
     "traceback": [
      "\u001b[1;31m---------------------------------------------------------------------------\u001b[0m",
      "\u001b[1;31mNameError\u001b[0m                                 Traceback (most recent call last)",
      "Cell \u001b[1;32mIn[24], line 2\u001b[0m\n\u001b[0;32m      1\u001b[0m \u001b[38;5;66;03m# Create Data objects for train, validation, and test sets\u001b[39;00m\n\u001b[1;32m----> 2\u001b[0m train_data \u001b[38;5;241m=\u001b[39m [Data(x\u001b[38;5;241m=\u001b[39mx, edge_index\u001b[38;5;241m=\u001b[39medge_index, y\u001b[38;5;241m=\u001b[39my) \u001b[38;5;28;01mfor\u001b[39;00m x, edge_index, y \u001b[38;5;129;01min\u001b[39;00m \u001b[38;5;28mzip\u001b[39m(X_train, \u001b[43medge_indices_train\u001b[49m, y_train)]\n\u001b[0;32m      3\u001b[0m val_data \u001b[38;5;241m=\u001b[39m [Data(x\u001b[38;5;241m=\u001b[39mx, edge_index\u001b[38;5;241m=\u001b[39medge_index, y\u001b[38;5;241m=\u001b[39my) \u001b[38;5;28;01mfor\u001b[39;00m x, edge_index, y \u001b[38;5;129;01min\u001b[39;00m \u001b[38;5;28mzip\u001b[39m(X_val, edge_indices_val, y_val)]\n\u001b[0;32m      4\u001b[0m test_data \u001b[38;5;241m=\u001b[39m [Data(x\u001b[38;5;241m=\u001b[39mx, edge_index\u001b[38;5;241m=\u001b[39medge_index, y\u001b[38;5;241m=\u001b[39my) \u001b[38;5;28;01mfor\u001b[39;00m x, edge_index, y \u001b[38;5;129;01min\u001b[39;00m \u001b[38;5;28mzip\u001b[39m(X_test, edge_indices_test, y_test)]\n",
      "\u001b[1;31mNameError\u001b[0m: name 'edge_indices_train' is not defined"
     ]
    }
   ],
   "source": [
    "# Create Data objects for train, validation, and test sets\n",
    "train_data = [Data(x=x, edge_index=edge_index, y=y) for x, edge_index, y in zip(X_train, edge_indices_train, y_train)]\n",
    "val_data = [Data(x=x, edge_index=edge_index, y=y) for x, edge_index, y in zip(X_val, edge_indices_val, y_val)]\n",
    "test_data = [Data(x=x, edge_index=edge_index, y=y) for x, edge_index, y in zip(X_test, edge_indices_test, y_test)]\n"
   ]
  },
  {
   "cell_type": "code",
   "execution_count": null,
   "id": "bc6e2d1c",
   "metadata": {},
   "outputs": [],
   "source": [
    "# Create DataLoaders\n",
    "train_loader = DataLoader(train_data, batch_size=64, shuffle=True)\n",
    "val_loader = DataLoader(val_data, batch_size=64)\n",
    "test_loader = DataLoader(test_data, batch_size=64)"
   ]
  },
  {
   "cell_type": "code",
   "execution_count": null,
   "id": "74e7e70a",
   "metadata": {},
   "outputs": [],
   "source": [
    "# Training loop\n",
    "num_epochs = 10\n",
    "train_losses = []\n",
    "val_losses = []\n",
    "val_accuracies = []"
   ]
  },
  {
   "cell_type": "code",
   "execution_count": null,
   "id": "4364e68f",
   "metadata": {},
   "outputs": [],
   "source": [
    "for epoch in range(num_epochs):\n",
    "    train_loss = train(model, optimizer, criterion, train_loader)\n",
    "    val_loss, val_accuracy = evaluate(model, criterion, val_loader)\n",
    "    train_losses.append(train_loss)\n",
    "    val_losses.append(val_loss)\n",
    "    val_accuracies.append(val_accuracy)\n",
    "    print(f\"Epoch {epoch + 1}/{num_epochs} - Train Loss: {train_loss:.4f} - Val Loss: {val_loss:.4f} - Val Acc: {val_accuracy:.4f}\")"
   ]
  },
  {
   "cell_type": "code",
   "execution_count": null,
   "id": "2487516b",
   "metadata": {},
   "outputs": [],
   "source": [
    "# Plot the training and validation loss\n",
    "plt.figure(figsize=(10, 5))\n",
    "plt.plot(train_losses, label=\"Train Loss\", linestyle=\"-\", marker=\"o\")\n",
    "plt.plot(val_losses, label=\"Val Loss\", linestyle=\"-\", marker=\"o\")\n",
    "plt.xlabel(\"Epochs\")\n",
    "plt.ylabel(\"Loss\")\n",
    "plt.legend()\n",
    "plt.show()"
   ]
  },
  {
   "cell_type": "code",
   "execution_count": null,
   "id": "040e0d2e",
   "metadata": {},
   "outputs": [],
   "source": [
    "# Evaluate the model on the test set\n",
    "test_loss, test_accuracy = evaluate(model, criterion, test_loader)\n",
    "print(f\"Test Loss: {test_loss:.4f} - Test Accuracy: {test_accuracy:.4f}\")"
   ]
  },
  {
   "cell_type": "code",
   "execution_count": 39,
   "id": "ffced2a1",
   "metadata": {},
   "outputs": [
    {
     "name": "stdout",
     "output_type": "stream",
     "text": [
      "Shape of X_train: (80000, 139, 4)\n"
     ]
    }
   ],
   "source": [
    "print(\"Shape of X_train:\", X_train.shape)"
   ]
  },
  {
   "cell_type": "code",
   "execution_count": 40,
   "id": "dedcb004",
   "metadata": {},
   "outputs": [
    {
     "name": "stdout",
     "output_type": "stream",
     "text": [
      "Example of a single element in X_train:\n",
      "[[ 2.38747522e-01  6.83098877e-01  1.86989794e+00  2.20000000e+01]\n",
      " [ 4.84468876e-01  6.64770567e-01  1.85677737e+00  2.20000000e+01]\n",
      " [ 2.70745579e-01  9.21458554e-01  1.57665564e+00  2.20000000e+01]\n",
      " [ 4.10953495e+00  3.59077737e-01  1.72586423e+00  2.11200000e+03]\n",
      " [ 1.08357142e+00  3.46838197e-01  1.71266242e+00  2.20000000e+01]\n",
      " [ 1.56991976e+00  9.12724948e-01  1.52518512e+00  2.11000000e+02]\n",
      " [ 4.30950994e-03  2.90641658e-01  1.47430049e+00  2.20000000e+01]\n",
      " [ 5.15456633e+00  3.29756122e-01  1.46554005e+00  2.11000000e+02]\n",
      " [ 3.50611414e+00  6.72956010e-01  1.23332919e+00  2.11000000e+02]\n",
      " [ 2.69142512e-01  5.81606006e-01  1.74224886e+00  2.20000000e+01]\n",
      " [ 1.59410264e+00  3.59610160e-01  1.42731602e+00  2.20000000e+01]\n",
      " [ 8.16716389e-02  4.05161741e-01  1.38671542e+00  2.20000000e+01]\n",
      " [ 1.15774496e+00  3.83536639e-01  1.46425160e+00 -2.11000000e+02]\n",
      " [ 3.46832633e-01  7.95296113e-01  1.47765045e+00  2.20000000e+01]\n",
      " [ 2.06130016e+00  6.97256875e-01  1.63893700e+00  2.11000000e+02]\n",
      " [ 1.60237213e+00  4.42163909e-01  1.40960158e+00  2.20000000e+01]\n",
      " [ 2.63957381e+00  4.46805644e-01  1.40244872e+00 -2.11200000e+03]\n",
      " [ 2.13121352e-01  7.67634541e-01  1.47506430e+00  2.20000000e+01]\n",
      " [ 1.57397190e+00  6.44255778e-01  1.32250723e+00  2.11000000e+02]\n",
      " [ 4.57825100e-01  5.38215909e-01  1.32869019e+00  2.20000000e+01]\n",
      " [ 4.24428245e+00  4.55448849e-01  1.57553661e+00  2.20000000e+01]\n",
      " [ 4.50862466e+00  4.97035690e-01  1.41970538e+00  2.20000000e+01]\n",
      " [ 5.68020312e-01  4.94726045e-01  1.43947783e+00  2.20000000e+01]\n",
      " [ 2.80884090e+00  5.31394006e-01  1.40242727e+00 -2.11000000e+02]\n",
      " [ 5.26178081e+00  5.70754812e-01  1.57456950e+00 -2.11000000e+02]\n",
      " [ 1.53594246e+00  6.75129804e-01  1.44060183e+00  2.20000000e+01]\n",
      " [ 5.82245232e-01  5.36847394e-01  1.54827127e+00  2.20000000e+01]\n",
      " [ 8.93648723e-01  5.44809049e-01  1.42083087e+00  2.11000000e+02]\n",
      " [ 2.86806837e+00  5.69144164e-01  1.56145747e+00 -2.11000000e+02]\n",
      " [ 1.03044981e+00  5.19524908e-01  1.47815902e+00  2.20000000e+01]\n",
      " [ 5.96444219e-01  5.62389240e-01  1.52526890e+00  2.20000000e+01]\n",
      " [ 1.31568353e+00  6.32714100e-01  1.52079951e+00  2.20000000e+01]\n",
      " [ 1.01781425e+01  6.38636350e-01  1.47909030e+00 -2.11000000e+02]\n",
      " [ 7.47503967e+00  5.95770755e-01  1.44952738e+00 -2.11000000e+02]\n",
      " [ 6.21832732e+00  6.27429629e-01  1.46639255e+00  2.11000000e+02]\n",
      " [ 1.94306489e+01  6.14972539e-01  1.48656054e+00  2.11000000e+02]\n",
      " [ 1.50975801e+00  6.05838508e-01  1.50061194e+00  2.20000000e+01]\n",
      " [ 1.99507552e+01  5.88361104e-01  1.49909302e+00  2.20000000e+01]\n",
      " [ 9.92300833e+00  5.85601670e-01  1.48990512e+00  2.20000000e+01]\n",
      " [ 1.31013933e+01  6.04345666e-01  1.49538821e+00 -2.11000000e+02]\n",
      " [ 3.23514246e+01  5.95377837e-01  1.47882147e+00  2.20000000e+01]\n",
      " [ 1.79278327e+01  6.04785477e-01  1.48758127e+00 -2.11000000e+02]\n",
      " [ 1.79460209e+01  5.99196438e-01  1.48292026e+00  2.20000000e+01]\n",
      " [ 1.17559480e+02  5.96271279e-01  1.48589745e+00 -2.11200000e+03]\n",
      " [ 1.53128602e+02  5.99548298e-01  1.48782084e+00  2.21200000e+03]\n",
      " [ 5.16177786e+01  5.98386530e-01  1.48726040e+00  2.20000000e+01]\n",
      " [ 0.00000000e+00  0.00000000e+00  0.00000000e+00  0.00000000e+00]\n",
      " [ 0.00000000e+00  0.00000000e+00  0.00000000e+00  0.00000000e+00]\n",
      " [ 0.00000000e+00  0.00000000e+00  0.00000000e+00  0.00000000e+00]\n",
      " [ 0.00000000e+00  0.00000000e+00  0.00000000e+00  0.00000000e+00]\n",
      " [ 0.00000000e+00  0.00000000e+00  0.00000000e+00  0.00000000e+00]\n",
      " [ 0.00000000e+00  0.00000000e+00  0.00000000e+00  0.00000000e+00]\n",
      " [ 0.00000000e+00  0.00000000e+00  0.00000000e+00  0.00000000e+00]\n",
      " [ 0.00000000e+00  0.00000000e+00  0.00000000e+00  0.00000000e+00]\n",
      " [ 0.00000000e+00  0.00000000e+00  0.00000000e+00  0.00000000e+00]\n",
      " [ 0.00000000e+00  0.00000000e+00  0.00000000e+00  0.00000000e+00]\n",
      " [ 0.00000000e+00  0.00000000e+00  0.00000000e+00  0.00000000e+00]\n",
      " [ 0.00000000e+00  0.00000000e+00  0.00000000e+00  0.00000000e+00]\n",
      " [ 0.00000000e+00  0.00000000e+00  0.00000000e+00  0.00000000e+00]\n",
      " [ 0.00000000e+00  0.00000000e+00  0.00000000e+00  0.00000000e+00]\n",
      " [ 0.00000000e+00  0.00000000e+00  0.00000000e+00  0.00000000e+00]\n",
      " [ 0.00000000e+00  0.00000000e+00  0.00000000e+00  0.00000000e+00]\n",
      " [ 0.00000000e+00  0.00000000e+00  0.00000000e+00  0.00000000e+00]\n",
      " [ 0.00000000e+00  0.00000000e+00  0.00000000e+00  0.00000000e+00]\n",
      " [ 0.00000000e+00  0.00000000e+00  0.00000000e+00  0.00000000e+00]\n",
      " [ 0.00000000e+00  0.00000000e+00  0.00000000e+00  0.00000000e+00]\n",
      " [ 0.00000000e+00  0.00000000e+00  0.00000000e+00  0.00000000e+00]\n",
      " [ 0.00000000e+00  0.00000000e+00  0.00000000e+00  0.00000000e+00]\n",
      " [ 0.00000000e+00  0.00000000e+00  0.00000000e+00  0.00000000e+00]\n",
      " [ 0.00000000e+00  0.00000000e+00  0.00000000e+00  0.00000000e+00]\n",
      " [ 0.00000000e+00  0.00000000e+00  0.00000000e+00  0.00000000e+00]\n",
      " [ 0.00000000e+00  0.00000000e+00  0.00000000e+00  0.00000000e+00]\n",
      " [ 0.00000000e+00  0.00000000e+00  0.00000000e+00  0.00000000e+00]\n",
      " [ 0.00000000e+00  0.00000000e+00  0.00000000e+00  0.00000000e+00]\n",
      " [ 0.00000000e+00  0.00000000e+00  0.00000000e+00  0.00000000e+00]\n",
      " [ 0.00000000e+00  0.00000000e+00  0.00000000e+00  0.00000000e+00]\n",
      " [ 0.00000000e+00  0.00000000e+00  0.00000000e+00  0.00000000e+00]\n",
      " [ 0.00000000e+00  0.00000000e+00  0.00000000e+00  0.00000000e+00]\n",
      " [ 0.00000000e+00  0.00000000e+00  0.00000000e+00  0.00000000e+00]\n",
      " [ 0.00000000e+00  0.00000000e+00  0.00000000e+00  0.00000000e+00]\n",
      " [ 0.00000000e+00  0.00000000e+00  0.00000000e+00  0.00000000e+00]\n",
      " [ 0.00000000e+00  0.00000000e+00  0.00000000e+00  0.00000000e+00]\n",
      " [ 0.00000000e+00  0.00000000e+00  0.00000000e+00  0.00000000e+00]\n",
      " [ 0.00000000e+00  0.00000000e+00  0.00000000e+00  0.00000000e+00]\n",
      " [ 0.00000000e+00  0.00000000e+00  0.00000000e+00  0.00000000e+00]\n",
      " [ 0.00000000e+00  0.00000000e+00  0.00000000e+00  0.00000000e+00]\n",
      " [ 0.00000000e+00  0.00000000e+00  0.00000000e+00  0.00000000e+00]\n",
      " [ 0.00000000e+00  0.00000000e+00  0.00000000e+00  0.00000000e+00]\n",
      " [ 0.00000000e+00  0.00000000e+00  0.00000000e+00  0.00000000e+00]\n",
      " [ 0.00000000e+00  0.00000000e+00  0.00000000e+00  0.00000000e+00]\n",
      " [ 0.00000000e+00  0.00000000e+00  0.00000000e+00  0.00000000e+00]\n",
      " [ 0.00000000e+00  0.00000000e+00  0.00000000e+00  0.00000000e+00]\n",
      " [ 0.00000000e+00  0.00000000e+00  0.00000000e+00  0.00000000e+00]\n",
      " [ 0.00000000e+00  0.00000000e+00  0.00000000e+00  0.00000000e+00]\n",
      " [ 0.00000000e+00  0.00000000e+00  0.00000000e+00  0.00000000e+00]\n",
      " [ 0.00000000e+00  0.00000000e+00  0.00000000e+00  0.00000000e+00]\n",
      " [ 0.00000000e+00  0.00000000e+00  0.00000000e+00  0.00000000e+00]\n",
      " [ 0.00000000e+00  0.00000000e+00  0.00000000e+00  0.00000000e+00]\n",
      " [ 0.00000000e+00  0.00000000e+00  0.00000000e+00  0.00000000e+00]\n",
      " [ 0.00000000e+00  0.00000000e+00  0.00000000e+00  0.00000000e+00]\n",
      " [ 0.00000000e+00  0.00000000e+00  0.00000000e+00  0.00000000e+00]\n",
      " [ 0.00000000e+00  0.00000000e+00  0.00000000e+00  0.00000000e+00]\n",
      " [ 0.00000000e+00  0.00000000e+00  0.00000000e+00  0.00000000e+00]\n",
      " [ 0.00000000e+00  0.00000000e+00  0.00000000e+00  0.00000000e+00]\n",
      " [ 0.00000000e+00  0.00000000e+00  0.00000000e+00  0.00000000e+00]\n",
      " [ 0.00000000e+00  0.00000000e+00  0.00000000e+00  0.00000000e+00]\n",
      " [ 0.00000000e+00  0.00000000e+00  0.00000000e+00  0.00000000e+00]\n",
      " [ 0.00000000e+00  0.00000000e+00  0.00000000e+00  0.00000000e+00]\n",
      " [ 0.00000000e+00  0.00000000e+00  0.00000000e+00  0.00000000e+00]\n",
      " [ 0.00000000e+00  0.00000000e+00  0.00000000e+00  0.00000000e+00]\n",
      " [ 0.00000000e+00  0.00000000e+00  0.00000000e+00  0.00000000e+00]\n",
      " [ 0.00000000e+00  0.00000000e+00  0.00000000e+00  0.00000000e+00]\n",
      " [ 0.00000000e+00  0.00000000e+00  0.00000000e+00  0.00000000e+00]\n",
      " [ 0.00000000e+00  0.00000000e+00  0.00000000e+00  0.00000000e+00]\n",
      " [ 0.00000000e+00  0.00000000e+00  0.00000000e+00  0.00000000e+00]\n",
      " [ 0.00000000e+00  0.00000000e+00  0.00000000e+00  0.00000000e+00]\n",
      " [ 0.00000000e+00  0.00000000e+00  0.00000000e+00  0.00000000e+00]\n",
      " [ 0.00000000e+00  0.00000000e+00  0.00000000e+00  0.00000000e+00]\n",
      " [ 0.00000000e+00  0.00000000e+00  0.00000000e+00  0.00000000e+00]\n",
      " [ 0.00000000e+00  0.00000000e+00  0.00000000e+00  0.00000000e+00]\n",
      " [ 0.00000000e+00  0.00000000e+00  0.00000000e+00  0.00000000e+00]\n",
      " [ 0.00000000e+00  0.00000000e+00  0.00000000e+00  0.00000000e+00]\n",
      " [ 0.00000000e+00  0.00000000e+00  0.00000000e+00  0.00000000e+00]\n",
      " [ 0.00000000e+00  0.00000000e+00  0.00000000e+00  0.00000000e+00]\n",
      " [ 0.00000000e+00  0.00000000e+00  0.00000000e+00  0.00000000e+00]\n",
      " [ 0.00000000e+00  0.00000000e+00  0.00000000e+00  0.00000000e+00]\n",
      " [ 0.00000000e+00  0.00000000e+00  0.00000000e+00  0.00000000e+00]\n",
      " [ 0.00000000e+00  0.00000000e+00  0.00000000e+00  0.00000000e+00]\n",
      " [ 0.00000000e+00  0.00000000e+00  0.00000000e+00  0.00000000e+00]\n",
      " [ 0.00000000e+00  0.00000000e+00  0.00000000e+00  0.00000000e+00]\n",
      " [ 0.00000000e+00  0.00000000e+00  0.00000000e+00  0.00000000e+00]\n",
      " [ 0.00000000e+00  0.00000000e+00  0.00000000e+00  0.00000000e+00]\n",
      " [ 0.00000000e+00  0.00000000e+00  0.00000000e+00  0.00000000e+00]\n",
      " [ 0.00000000e+00  0.00000000e+00  0.00000000e+00  0.00000000e+00]\n",
      " [ 0.00000000e+00  0.00000000e+00  0.00000000e+00  0.00000000e+00]\n",
      " [ 0.00000000e+00  0.00000000e+00  0.00000000e+00  0.00000000e+00]\n",
      " [ 0.00000000e+00  0.00000000e+00  0.00000000e+00  0.00000000e+00]\n",
      " [ 0.00000000e+00  0.00000000e+00  0.00000000e+00  0.00000000e+00]\n",
      " [ 0.00000000e+00  0.00000000e+00  0.00000000e+00  0.00000000e+00]]\n",
      "Shape of the example element: (139, 4)\n"
     ]
    }
   ],
   "source": [
    "print(\"Example of a single element in X_train:\")\n",
    "print(X_train[0])\n",
    "print(\"Shape of the example element:\", X_train[0].shape)"
   ]
  },
  {
   "cell_type": "code",
   "execution_count": null,
   "id": "5c976d9b",
   "metadata": {},
   "outputs": [],
   "source": []
  }
 ],
 "metadata": {
  "kernelspec": {
   "display_name": "Python 3 (ipykernel)",
   "language": "python",
   "name": "python3"
  },
  "language_info": {
   "codemirror_mode": {
    "name": "ipython",
    "version": 3
   },
   "file_extension": ".py",
   "mimetype": "text/x-python",
   "name": "python",
   "nbconvert_exporter": "python",
   "pygments_lexer": "ipython3",
   "version": "3.8.17"
  }
 },
 "nbformat": 4,
 "nbformat_minor": 5
}
